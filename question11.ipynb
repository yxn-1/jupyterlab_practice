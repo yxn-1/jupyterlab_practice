{
 "cells": [
  {
   "cell_type": "markdown",
   "id": "7eff9069-3539-4a3f-ae0c-0e889ef7fef4",
   "metadata": {},
   "source": [
    "# Yuxin Zhang\n",
    "\n",
    "Notebook for assignment 7"
   ]
  },
  {
   "cell_type": "code",
   "execution_count": 1,
   "id": "f17f72ba-1a6c-4d52-bbf9-4428c71f4638",
   "metadata": {},
   "outputs": [
    {
     "data": {
      "text/plain": [
       "5.0"
      ]
     },
     "execution_count": 1,
     "metadata": {},
     "output_type": "execute_result"
    }
   ],
   "source": [
    "def compute_mean(values):\n",
    "    mean_value = sum(values) / len(values)\n",
    "    return mean_value\n",
    "\n",
    "# Call the function with the example list\n",
    "compute_mean([2, 4, 6, 8])"
   ]
  },
  {
   "cell_type": "markdown",
   "id": "c74944f3-3f41-4217-a440-cc8c129eecdc",
   "metadata": {},
   "source": [
    "This code defines a function `compute_mean` that calculates the mean of a list of numbers. It sums all the elements and divides by the number of elements.\n",
    "\n",
    "The mean of a list of numbers $$[x_1, x_2, \\ldots, x_n]$$ is calculated using the formula:\n",
    "$$\n",
    "\\bar{x} = \\frac{1}{n} \\sum_{i=1}^{n} x_i\n",
    "$$\n",
    "Alternatively, it can be expressed as:\n",
    "$$\n",
    "\\bar{x} = \\frac{x_1 + x_2 + \\cdots + x_n}{n}\n",
    "$$"
   ]
  },
  {
   "cell_type": "code",
   "execution_count": null,
   "id": "ccf8fdad-97c1-4daa-b2e0-4378c80587c0",
   "metadata": {},
   "outputs": [],
   "source": []
  }
 ],
 "metadata": {
  "kernelspec": {
   "display_name": "Python 3 (ipykernel)",
   "language": "python",
   "name": "python3"
  },
  "language_info": {
   "codemirror_mode": {
    "name": "ipython",
    "version": 3
   },
   "file_extension": ".py",
   "mimetype": "text/x-python",
   "name": "python",
   "nbconvert_exporter": "python",
   "pygments_lexer": "ipython3",
   "version": "3.12.3"
  }
 },
 "nbformat": 4,
 "nbformat_minor": 5
}
